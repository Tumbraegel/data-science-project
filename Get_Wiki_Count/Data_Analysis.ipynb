{
 "cells": [
  {
   "cell_type": "code",
   "execution_count": null,
   "metadata": {},
   "outputs": [],
   "source": [
    "import numpy as np\n",
    "from scipy import stats\n",
    "import matplotlib.pyplot as plt\n",
    "import pandas as pd"
   ]
  },
  {
   "cell_type": "code",
   "execution_count": null,
   "metadata": {},
   "outputs": [],
   "source": [
    "# split data into 8 different arrays\n",
    "Diving_10m = pd.read_excel('results_with_wiki_count.xlsx', sheet_name = 'Diving_10m')\n",
    "Archery = pd.read_excel('results_with_wiki_count.xlsx', sheet_name = 'Archery')\n",
    "Fencing_Epee = pd.read_excel('results_with_wiki_count.xlsx', sheet_name = 'Fencing_Epee')\n",
    "Modern_Pentathlon = pd.read_excel('results_with_wiki_count.xlsx', sheet_name = 'Modern_Pentathlon')\n",
    "Pole_Vault = pd.read_excel('results_with_wiki_count.xlsx', sheet_name = 'Pole_Vault')\n",
    "Swimming_100m_Freestyle = pd.read_excel('results_with_wiki_count.xlsx', sheet_name = 'Swimming_100m_Freestyle')\n",
    "Cycling_Road = pd.read_excel('results_with_wiki_count.xlsx', sheet_name = 'Cycling_Road')\n",
    "Athletes_100m = pd.read_excel('results_with_wiki_count.xlsx', sheet_name = 'Athletes_100m')"
   ]
  },
  {
   "cell_type": "code",
   "execution_count": null,
   "metadata": {},
   "outputs": [],
   "source": [
    "def plot_means(y):\n",
    "    x = range(len(y))\n",
    "    labels = [\"Women\", \"Men\"]\n",
    "    width = 1/2\n",
    "    plt.bar(x, y, width, color=\"blue\")\n",
    "    plt.xticks(x, labels)"
   ]
  },
  {
   "cell_type": "code",
   "execution_count": null,
   "metadata": {},
   "outputs": [],
   "source": [
    "def plot_median(y):\n",
    "    x = range(len(y))\n",
    "    labels = [\"Women\", \"Men\"]\n",
    "    width = 1/2\n",
    "    plt.bar(x, y, width, color=\"red\")\n",
    "    plt.xticks(x, labels)"
   ]
  },
  {
   "cell_type": "code",
   "execution_count": null,
   "metadata": {},
   "outputs": [],
   "source": [
    "# t-test for male and female participants in athletics_100_m finals\n",
    "#stats.ttest_ind(males, females)\n",
    "\n",
    "def ttest(sportart,kategorie):\n",
    "    '''conducts a t test for given competition\n",
    "    \n",
    "    Args:\n",
    "        competition: olympic sports competition to evaluate\n",
    "    \n",
    "    Returns:\n",
    "        statistic, pvalue : The calculated t-statistic and the two-tailed p-value.\n",
    "    '''\n",
    "    kat={'words':4,'edits':5,'links':6}\n",
    "    k=kat[kategorie]\n",
    "    \n",
    "    # create subgroups of male and female atheletes\n",
    "    men = sportart.loc[sportart['Gender'] == 'Men']\n",
    "    women = sportart.loc[sportart['Gender'] == 'Women']\n",
    "    \n",
    "    print(kategorie)\n",
    "\n",
    "    y_mean = [women['Wiki_Count'].mean(), men['Wiki_Count'].mean()]\n",
    "    y_median = [women['Wiki_Count'].median(), men['Wiki_Count'].median()]\n",
    "    mean_women = y_mean[0]\n",
    "    mean_men = y_mean[1]\n",
    "    \n",
    "    print('%d women, mean: %f, median: %f' % (len(women), mean_women, y_median[0]) )\n",
    "    print('%d men, mean: %f, median: %f' % (len(men), mean_men, y_median[1]) )  \n",
    "    \n",
    "    plt.subplot(1, 2, 1)\n",
    "    plot_means([mean_women, mean_men])\n",
    "    plt.subplot(1, 2, 2)\n",
    "    plot_median([y_median[0], y_median[1]])\n",
    "\n",
    "    plt.show()\n",
    "    \n",
    "    \n",
    "    \n",
    "    # conduct t test\n",
    "    \n",
    "    return stats.ttest_ind(men['Wiki_Count'], women['Wiki_Count'])"
   ]
  },
  {
   "cell_type": "code",
   "execution_count": null,
   "metadata": {},
   "outputs": [],
   "source": [
    "# words,edits,links\n",
    "print(ttest(Athletes_100m,'words')) "
   ]
  },
  {
   "cell_type": "code",
   "execution_count": null,
   "metadata": {},
   "outputs": [],
   "source": [
    "def intify(stringseries):\n",
    "    list = []\n",
    "    for row in stringseries:\n",
    "        list.append(int(row))\n",
    "    \n",
    "    return pd.Series(list)"
   ]
  },
  {
   "cell_type": "code",
   "execution_count": null,
   "metadata": {},
   "outputs": [],
   "source": [
    "def createDataFrame(data):\n",
    "    indices = []\n",
    "    dataWithoutIndices = []\n",
    "    for lines in data[1:]:\n",
    "        indices.append(lines[0])\n",
    "        dataWithoutIndices.append(lines[1:])\n",
    "\n",
    "    return pd.DataFrame(data=dataWithoutIndices, columns=data[0][1:])"
   ]
  },
  {
   "cell_type": "code",
   "execution_count": null,
   "metadata": {},
   "outputs": [],
   "source": [
    "# Turn all strings that should be int into int\n",
    "allpeople = createDataFrame(data)\n",
    "allpeople.Wordcount = intify(allpeople.Wordcount)\n",
    "allpeople.Editcount = intify(allpeople.Editcount)\n",
    "allpeople.Linkcount = intify(allpeople.Linkcount)"
   ]
  },
  {
   "cell_type": "code",
   "execution_count": null,
   "metadata": {},
   "outputs": [],
   "source": [
    "allmen = allpeople.loc[allpeople['Gender'] == 'm']\n",
    "allwomen = allpeople.loc[allpeople['Gender'] == 'f']\n",
    "unassigned = allpeople.loc[allpeople['Gender'] == '0']\n",
    "\n",
    "print('Women: ' + str(len(allwomen)) + ' Men: ' +str(len(allmen)) +' Unassigned: ' + str(len(unassigned)))"
   ]
  },
  {
   "cell_type": "code",
   "execution_count": null,
   "metadata": {},
   "outputs": [],
   "source": [
    "#Extreme values on wordcount column\n",
    "def extremes_per_sport(data, gender):\n",
    "    sports = data.Sport.unique()\n",
    "    cols = ['Max', 'Min']\n",
    "    max = []\n",
    "    min = []\n",
    "    gendered_dataFrame = data.loc[data['Gender'] == gender]\n",
    "    for sport in sports:\n",
    "        max.append(gendered_dataFrame.loc[gendered_dataFrame['Sport'] == sport].Wordcount.max())\n",
    "        min.append(gendered_dataFrame.loc[gendered_dataFrame['Sport'] == sport].Wordcount.min())\n",
    "    return pd.DataFrame({'Max':np.asarray(max),\n",
    "                        'Min': np.asarray(min)}, index=sports)"
   ]
  },
  {
   "cell_type": "code",
   "execution_count": null,
   "metadata": {},
   "outputs": [],
   "source": [
    "def plot_max(data, gender):\n",
    "    labels = data.Sport.unique()\n",
    "    y_pos = np.arange(len(labels))\n",
    "    performance = np.asarray(extremes_per_sport(data, gender).Max)\n",
    " \n",
    "    plt.barh(y_pos, performance, align='center', alpha=0.5, color='green')\n",
    "    plt.yticks(y_pos, labels)\n",
    "    plt.xlabel('Wordcount')\n",
    "    plt.title('Max Wordcount')\n",
    " \n",
    "    plt.show()"
   ]
  },
  {
   "cell_type": "code",
   "execution_count": null,
   "metadata": {},
   "outputs": [],
   "source": [
    "plot_max(allpeople, 'f')"
   ]
  },
  {
   "cell_type": "code",
   "execution_count": null,
   "metadata": {},
   "outputs": [],
   "source": [
    "plot_max(allpeople, 'm')"
   ]
  },
  {
   "cell_type": "code",
   "execution_count": null,
   "metadata": {},
   "outputs": [],
   "source": [
    "def plot_min(data, gender):\n",
    "    labels = data.Sport.unique()\n",
    "    y_pos = np.arange(len(labels))\n",
    "    performance = np.asarray(extremes_per_sport(data, gender).Min) \n",
    "    plt.barh(y_pos, performance, align='center', alpha=0.5, color='green')\n",
    "    plt.yticks(y_pos, labels)\n",
    "    plt.xlabel('Wordcount')\n",
    "    plt.title('Min Wordcount')\n",
    " \n",
    "    plt.show()"
   ]
  },
  {
   "cell_type": "code",
   "execution_count": null,
   "metadata": {},
   "outputs": [],
   "source": [
    "plot_min(allpeople, 'f')"
   ]
  },
  {
   "cell_type": "code",
   "execution_count": null,
   "metadata": {},
   "outputs": [],
   "source": [
    "plot_min(allpeople, 'm')"
   ]
  },
  {
   "cell_type": "code",
   "execution_count": null,
   "metadata": {},
   "outputs": [],
   "source": [
    "# takes a pandas series (one column of a pandas dataFrame)\n",
    "def histogram(data):\n",
    "    num_bins = 8\n",
    "    n, bins, patches = plt.hist(data, num_bins, facecolor='blue', alpha=0.5)\n",
    "    plt.show()"
   ]
  },
  {
   "cell_type": "code",
   "execution_count": null,
   "metadata": {},
   "outputs": [],
   "source": [
    "histogram(allpeople.loc[allpeople['Gender'] == 'm'].Wordcount)"
   ]
  },
  {
   "cell_type": "code",
   "execution_count": null,
   "metadata": {},
   "outputs": [],
   "source": [
    "histogram(allpeople.loc[allpeople['Gender'] == 'f'].Wordcount)"
   ]
  },
  {
   "cell_type": "code",
   "execution_count": null,
   "metadata": {},
   "outputs": [],
   "source": [
    "histogram(allpeople.loc[allpeople['Gender'] == 'f'].Editcount)"
   ]
  },
  {
   "cell_type": "code",
   "execution_count": null,
   "metadata": {},
   "outputs": [],
   "source": [
    "histogram(allpeople.loc[allpeople['Gender'] == 'm'].Editcount)"
   ]
  },
  {
   "cell_type": "code",
   "execution_count": null,
   "metadata": {},
   "outputs": [],
   "source": [
    "#Number of ppl of specified gender per sport\n",
    "def gender_per_sport(data):\n",
    "    sports = data.Sport.unique()\n",
    "    female = []\n",
    "    male = []\n",
    "    equal_genders = []\n",
    "    allwomen = data.loc[data['Gender'] == 'f']\n",
    "    allmen = data.loc[data['Gender'] == 'm']\n",
    "    for sport in sports:\n",
    "        amount_of_women = len(allwomen.loc[allwomen['Sport'] == sport])\n",
    "        amount_of_men = len(allmen.loc[allmen['Sport'] == sport])\n",
    "        female.append(amount_of_women)\n",
    "        male.append(amount_of_men)\n",
    "        if amount_of_men == amount_of_women:\n",
    "            equal_genders.append('true')\n",
    "        else:\n",
    "            equal_genders.append('false')\n",
    "    return pd.DataFrame({'f':np.asarray(female),\n",
    "                        'm': np.asarray(male),\n",
    "                        'equal': np.asarray(equal_genders)}, index=sports)"
   ]
  },
  {
   "cell_type": "code",
   "execution_count": null,
   "metadata": {},
   "outputs": [],
   "source": [
    "per_sport = gender_per_sport(allpeople)\n",
    "#Male and female athletes per sport, where there are equal numbers of participants\n",
    "per_sport.loc[per_sport['equal'] == 'true']"
   ]
  }
 ],
 "metadata": {
  "kernelspec": {
   "display_name": "Python 3",
   "language": "python",
   "name": "python3"
  },
  "language_info": {
   "codemirror_mode": {
    "name": "ipython",
    "version": 3
   },
   "file_extension": ".py",
   "mimetype": "text/x-python",
   "name": "python",
   "nbconvert_exporter": "python",
   "pygments_lexer": "ipython3",
   "version": "3.6.7"
  }
 },
 "nbformat": 4,
 "nbformat_minor": 2
}
