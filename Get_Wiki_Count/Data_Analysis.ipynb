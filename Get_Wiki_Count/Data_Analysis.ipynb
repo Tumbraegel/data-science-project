{
 "cells": [
  {
   "cell_type": "code",
   "execution_count": 141,
   "metadata": {},
   "outputs": [],
   "source": [
    "import numpy as np\n",
    "from scipy import stats\n",
    "import matplotlib.pyplot as plt\n",
    "import pandas as pd"
   ]
  },
  {
   "cell_type": "code",
   "execution_count": 142,
   "metadata": {},
   "outputs": [],
   "source": [
    "# split data into 8 different arrays\n",
    "Diving_10m = pd.read_excel('results_with_wiki_count.xlsx', sheet_name = 'Diving_10m')\n",
    "Archery = pd.read_excel('results_with_wiki_count.xlsx', sheet_name = 'Archery')\n",
    "Fencing_Epee = pd.read_excel('results_with_wiki_count.xlsx', sheet_name = 'Fencing_Epee')\n",
    "Modern_Pentathlon = pd.read_excel('results_with_wiki_count.xlsx', sheet_name = 'Modern_Pentathlon')\n",
    "Pole_Vault = pd.read_excel('results_with_wiki_count.xlsx', sheet_name = 'Pole_Vault')\n",
    "Swimming_100m_Freestyle = pd.read_excel('results_with_wiki_count.xlsx', sheet_name = 'Swimming_100m_Freestyle')\n",
    "Cycling_Road = pd.read_excel('results_with_wiki_count.xlsx', sheet_name = 'Cycling_Road')\n",
    "Athletes_100m = pd.read_excel('results_with_wiki_count.xlsx', sheet_name = 'Athletes_100m')"
   ]
  },
  {
   "cell_type": "code",
   "execution_count": 143,
   "metadata": {},
   "outputs": [],
   "source": [
    "def plot_means(y):\n",
    "    x = range(len(y))\n",
    "    labels = [\"Women\", \"Men\"]\n",
    "    width = 1/2\n",
    "    plt.bar(x, y, width, color=\"blue\")\n",
    "    plt.xticks(x, labels)"
   ]
  },
  {
   "cell_type": "code",
   "execution_count": 144,
   "metadata": {},
   "outputs": [],
   "source": [
    "def plot_median(y):\n",
    "    x = range(len(y))\n",
    "    labels = [\"Women\", \"Men\"]\n",
    "    width = 1/2\n",
    "    plt.bar(x, y, width, color=\"red\")\n",
    "    plt.xticks(x, labels)"
   ]
  },
  {
   "cell_type": "code",
   "execution_count": 145,
   "metadata": {},
   "outputs": [],
   "source": [
    "# t-test for male and female participants in athletics_100_m finals\n",
    "#stats.ttest_ind(males, females)\n",
    "\n",
    "def ttest(sportart,kategorie):\n",
    "    '''conducts a t test for given competition\n",
    "    \n",
    "    Args:\n",
    "        competition: olympic sports competition to evaluate\n",
    "    \n",
    "    Returns:\n",
    "        statistic, pvalue : The calculated t-statistic and the two-tailed p-value.\n",
    "    '''\n",
    "    kat={'words':4,'edits':5,'links':6}\n",
    "    k=kat[kategorie]\n",
    "    \n",
    "    # create subgroups of male and female atheletes\n",
    "    men = sportart.loc[sportart['Gender'] == 'Men']\n",
    "    women = sportart.loc[sportart['Gender'] == 'Women']\n",
    "    \n",
    "    print(kategorie)\n",
    "\n",
    "    y_mean = [women['Wiki_Count'].mean(), men['Wiki_Count'].mean()]\n",
    "    y_median = [women['Wiki_Count'].median(), men['Wiki_Count'].median()]\n",
    "    mean_women = y_mean[0]\n",
    "    mean_men = y_mean[1]\n",
    "    \n",
    "    print('%d women, mean: %f, median: %f' % (len(women), mean_women, y_median[0]) )\n",
    "    print('%d men, mean: %f, median: %f' % (len(men), mean_men, y_median[1]) )  \n",
    "    \n",
    "    plt.subplot(1, 2, 1)\n",
    "    plot_means([mean_women, mean_men])\n",
    "    plt.subplot(1, 2, 2)\n",
    "    plot_median([y_median[0], y_median[1]])\n",
    "\n",
    "    plt.show()\n",
    "    \n",
    "    \n",
    "    \n",
    "    # conduct t test\n",
    "    \n",
    "    return stats.ttest_ind(men['Wiki_Count'], women['Wiki_Count'])"
   ]
  },
  {
   "cell_type": "code",
   "execution_count": 146,
   "metadata": {},
   "outputs": [
    {
     "name": "stdout",
     "output_type": "stream",
     "text": [
      "words\n",
      "80 women, mean: 334.900000, median: 124.500000\n",
      "84 men, mean: 563.940476, median: 159.500000\n"
     ]
    },
    {
     "data": {
      "image/png": "[encoded data removed]",
      "text/plain": [
       "<Figure size 432x288 with 2 Axes>"
      ]
     },
     "metadata": {
      "needs_background": "light"
     },
     "output_type": "display_data"
    },
    {
     "name": "stdout",
     "output_type": "stream",
     "text": [
      "Ttest_indResult(statistic=1.4554879771696898, pvalue=0.14746931957531356)\n"
     ]
    }
   ],
   "source": [
    "# words,edits,links\n",
    "print(ttest(Athletes_100m,'words')) "
   ]
  },
  {
   "cell_type": "code",
   "execution_count": 147,
   "metadata": {},
   "outputs": [],
   "source": [
    "# Put all data in one dataframe\n",
    "alldata = pd.DataFrame(Diving_10m).append(Archery).append(Fencing_Epee).append(Modern_Pentathlon).append(Pole_Vault).append(Swimming_100m_Freestyle).append(Cycling_Road).append(Athletes_100m)"
   ]
  },
  {
   "cell_type": "code",
   "execution_count": 148,
   "metadata": {},
   "outputs": [
    {
     "name": "stdout",
     "output_type": "stream",
     "text": [
      "Women: 398 Men: 485 Unassigned: 2\n"
     ]
    }
   ],
   "source": [
    "allmen = alldata.loc[alldata['Gender'] == 'Men']\n",
    "allwomen = alldata.loc[alldata['Gender'] == 'Women']\n",
    "withoutMen = alldata.loc[alldata['Gender'] != 'Men']\n",
    "unassigned = withoutMen.loc[withoutMen['Gender'] != 'Women']\n",
    "\n",
    "print('Women: ' + str(len(allwomen)) + ' Men: ' +str(len(allmen)) +' Unassigned: ' + str(len(unassigned)))"
   ]
  },
  {
   "cell_type": "code",
   "execution_count": 149,
   "metadata": {},
   "outputs": [],
   "source": [
    "#Extreme values on wordcount column\n",
    "def extremes_per_sport(data, gender):\n",
    "    disciplines = data.Discipline.unique()\n",
    "    cols = ['Max', 'Min']\n",
    "    max = []\n",
    "    min = []\n",
    "    gendered_dataFrame = data.loc[data['Gender'] == gender]\n",
    "    for discipline in disciplines:\n",
    "        max.append(gendered_dataFrame.loc[gendered_dataFrame['Discipline'] == discipline].Wiki_Count.max())\n",
    "        min.append(gendered_dataFrame.loc[gendered_dataFrame['Discipline'] == discipline].Wiki_Count.min())\n",
    "    return pd.DataFrame({'Max':np.asarray(max),\n",
    "                        'Min': np.asarray(min)}, index=disciplines)"
   ]
  },
  {
   "cell_type": "code",
   "execution_count": 150,
   "metadata": {},
   "outputs": [],
   "source": [
    "def plot_max(data, gender):\n",
    "    labels = data.Discipline.unique()\n",
    "    y_pos = np.arange(len(labels))\n",
    "    performance = np.asarray(extremes_per_sport(data, gender).Max)\n",
    " \n",
    "    plt.barh(y_pos, performance, align='center', alpha=0.5, color='green')\n",
    "    plt.yticks(y_pos, labels)\n",
    "    plt.xlabel('Wordcount')\n",
    "    plt.title('Max Wordcount')\n",
    " \n",
    "    plt.show()"
   ]
  },
  {
   "cell_type": "code",
   "execution_count": 151,
   "metadata": {},
   "outputs": [
    {
     "data": {
      "text/html": [
       "<div>\n",
       "<style scoped>\n",
       "    .dataframe tbody tr th:only-of-type {\n",
       "        vertical-align: middle;\n",
       "    }\n",
       "\n",
       "    .dataframe tbody tr th {\n",
       "        vertical-align: top;\n",
       "    }\n",
       "\n",
       "    .dataframe thead th {\n",
       "        text-align: right;\n",
       "    }\n",
       "</style>\n",
       "<table border=\"1\" class=\"dataframe\">\n",
       "  <thead>\n",
       "    <tr style=\"text-align: right;\">\n",
       "      <th></th>\n",
       "      <th>Max</th>\n",
       "      <th>Min</th>\n",
       "    </tr>\n",
       "  </thead>\n",
       "  <tbody>\n",
       "    <tr>\n",
       "      <th>Diving</th>\n",
       "      <td>5120</td>\n",
       "      <td>0</td>\n",
       "    </tr>\n",
       "    <tr>\n",
       "      <th>Archery</th>\n",
       "      <td>567</td>\n",
       "      <td>0</td>\n",
       "    </tr>\n",
       "    <tr>\n",
       "      <th>Fencing</th>\n",
       "      <td>5862</td>\n",
       "      <td>29</td>\n",
       "    </tr>\n",
       "    <tr>\n",
       "      <th>Modern Pentathlon</th>\n",
       "      <td>2987</td>\n",
       "      <td>27</td>\n",
       "    </tr>\n",
       "    <tr>\n",
       "      <th>Athletics</th>\n",
       "      <td>10628</td>\n",
       "      <td>24</td>\n",
       "    </tr>\n",
       "    <tr>\n",
       "      <th>Swimming</th>\n",
       "      <td>2305</td>\n",
       "      <td>21</td>\n",
       "    </tr>\n",
       "    <tr>\n",
       "      <th>Cycling Road</th>\n",
       "      <td>8282</td>\n",
       "      <td>17</td>\n",
       "    </tr>\n",
       "  </tbody>\n",
       "</table>\n",
       "</div>"
      ],
      "text/plain": [
       "                     Max  Min\n",
       "Diving              5120    0\n",
       "Archery              567    0\n",
       "Fencing             5862   29\n",
       "Modern Pentathlon   2987   27\n",
       "Athletics          10628   24\n",
       "Swimming            2305   21\n",
       "Cycling Road        8282   17"
      ]
     },
     "execution_count": 151,
     "metadata": {},
     "output_type": "execute_result"
    }
   ],
   "source": [
    "extremes_per_sport(alldata, 'Men')"
   ]
  },
  {
   "cell_type": "code",
   "execution_count": 152,
   "metadata": {},
   "outputs": [
    {
     "data": {
      "text/html": [
       "<div>\n",
       "<style scoped>\n",
       "    .dataframe tbody tr th:only-of-type {\n",
       "        vertical-align: middle;\n",
       "    }\n",
       "\n",
       "    .dataframe tbody tr th {\n",
       "        vertical-align: top;\n",
       "    }\n",
       "\n",
       "    .dataframe thead th {\n",
       "        text-align: right;\n",
       "    }\n",
       "</style>\n",
       "<table border=\"1\" class=\"dataframe\">\n",
       "  <thead>\n",
       "    <tr style=\"text-align: right;\">\n",
       "      <th></th>\n",
       "      <th>Max</th>\n",
       "      <th>Min</th>\n",
       "    </tr>\n",
       "  </thead>\n",
       "  <tbody>\n",
       "    <tr>\n",
       "      <th>Diving</th>\n",
       "      <td>1096</td>\n",
       "      <td>31</td>\n",
       "    </tr>\n",
       "    <tr>\n",
       "      <th>Archery</th>\n",
       "      <td>1260</td>\n",
       "      <td>18</td>\n",
       "    </tr>\n",
       "    <tr>\n",
       "      <th>Fencing</th>\n",
       "      <td>4179</td>\n",
       "      <td>30</td>\n",
       "    </tr>\n",
       "    <tr>\n",
       "      <th>Modern Pentathlon</th>\n",
       "      <td>679</td>\n",
       "      <td>26</td>\n",
       "    </tr>\n",
       "    <tr>\n",
       "      <th>Athletics</th>\n",
       "      <td>2619</td>\n",
       "      <td>17</td>\n",
       "    </tr>\n",
       "    <tr>\n",
       "      <th>Swimming</th>\n",
       "      <td>1877</td>\n",
       "      <td>28</td>\n",
       "    </tr>\n",
       "    <tr>\n",
       "      <th>Cycling Road</th>\n",
       "      <td>4856</td>\n",
       "      <td>26</td>\n",
       "    </tr>\n",
       "  </tbody>\n",
       "</table>\n",
       "</div>"
      ],
      "text/plain": [
       "                    Max  Min\n",
       "Diving             1096   31\n",
       "Archery            1260   18\n",
       "Fencing            4179   30\n",
       "Modern Pentathlon   679   26\n",
       "Athletics          2619   17\n",
       "Swimming           1877   28\n",
       "Cycling Road       4856   26"
      ]
     },
     "execution_count": 152,
     "metadata": {},
     "output_type": "execute_result"
    }
   ],
   "source": [
    "extremes_per_sport(alldata, 'Women')"
   ]
  },
  {
   "cell_type": "code",
   "execution_count": 153,
   "metadata": {},
   "outputs": [
    {
     "data": {
      "image/png": "[encoded data removed]",
      "text/plain": [
       "<Figure size 432x288 with 1 Axes>"
      ]
     },
     "metadata": {
      "needs_background": "light"
     },
     "output_type": "display_data"
    }
   ],
   "source": [
    "plot_max(alldata, 'Women')"
   ]
  },
  {
   "cell_type": "code",
   "execution_count": 154,
   "metadata": {},
   "outputs": [
    {
     "data": {
      "image/png": "[encoded data removed]",
      "text/plain": [
       "<Figure size 432x288 with 1 Axes>"
      ]
     },
     "metadata": {
      "needs_background": "light"
     },
     "output_type": "display_data"
    }
   ],
   "source": [
    "plot_max(alldata, 'Men')"
   ]
  },
  {
   "cell_type": "code",
   "execution_count": 155,
   "metadata": {},
   "outputs": [],
   "source": [
    "def plot_min(data, gender):\n",
    "    labels = data.Discipline.unique()\n",
    "    y_pos = np.arange(len(labels))\n",
    "    performance = np.asarray(extremes_per_sport(data, gender).Min) \n",
    "    plt.barh(y_pos, performance, align='center', alpha=0.5, color='green')\n",
    "    plt.yticks(y_pos, labels)\n",
    "    plt.xlabel('Wordcount')\n",
    "    plt.title('Min Wordcount')\n",
    " \n",
    "    plt.show()"
   ]
  },
  {
   "cell_type": "code",
   "execution_count": 156,
   "metadata": {},
   "outputs": [
    {
     "data": {
      "image/png": "[encoded data removed]",
      "text/plain": [
       "<Figure size 432x288 with 1 Axes>"
      ]
     },
     "metadata": {
      "needs_background": "light"
     },
     "output_type": "display_data"
    }
   ],
   "source": [
    "plot_min(alldata, 'Women')"
   ]
  },
  {
   "cell_type": "code",
   "execution_count": 157,
   "metadata": {},
   "outputs": [
    {
     "data": {
      "image/png": "[encoded data removed]",
      "text/plain": [
       "<Figure size 432x288 with 1 Axes>"
      ]
     },
     "metadata": {
      "needs_background": "light"
     },
     "output_type": "display_data"
    }
   ],
   "source": [
    "plot_min(alldata, 'Men')"
   ]
  },
  {
   "cell_type": "code",
   "execution_count": 158,
   "metadata": {},
   "outputs": [],
   "source": [
    "# takes a pandas series (one column of a pandas dataFrame)\n",
    "def histogram(data):\n",
    "    num_bins = 8\n",
    "    n, bins, patches = plt.hist(data, num_bins, facecolor='blue', alpha=0.5)\n",
    "    plt.show()"
   ]
  },
  {
   "cell_type": "code",
   "execution_count": 159,
   "metadata": {},
   "outputs": [
    {
     "data": {
      "image/png": "[encoded data removed]",
      "text/plain": [
       "<Figure size 432x288 with 1 Axes>"
      ]
     },
     "metadata": {
      "needs_background": "light"
     },
     "output_type": "display_data"
    }
   ],
   "source": [
    "histogram(alldata.loc[alldata['Gender'] == 'Men'].Wiki_Count)"
   ]
  },
  {
   "cell_type": "code",
   "execution_count": 160,
   "metadata": {},
   "outputs": [
    {
     "data": {
      "image/png": "[encoded data removed]",
      "text/plain": [
       "<Figure size 432x288 with 1 Axes>"
      ]
     },
     "metadata": {
      "needs_background": "light"
     },
     "output_type": "display_data"
    }
   ],
   "source": [
    "histogram(alldata.loc[alldata['Gender'] == 'Women'].Wiki_Count)"
   ]
  },
  {
   "cell_type": "code",
   "execution_count": 161,
   "metadata": {},
   "outputs": [],
   "source": [
    "#Number of ppl of specified gender per sport\n",
    "def gender_per_sport(data):\n",
    "    disciplines = data.Discipline.unique()\n",
    "    female = []\n",
    "    male = []\n",
    "    equal_genders = []\n",
    "    allwomen = data.loc[data['Gender'] == 'Women']\n",
    "    allmen = data.loc[data['Gender'] == 'Men']\n",
    "    for discipline in disciplines:\n",
    "        amount_of_women = len(allwomen.loc[allwomen['Discipline'] == discipline])\n",
    "        amount_of_men = len(allmen.loc[allmen['Discipline'] == discipline])\n",
    "        female.append(amount_of_women)\n",
    "        male.append(amount_of_men)\n",
    "        if amount_of_men == amount_of_women:\n",
    "            equal_genders.append('true')\n",
    "        else:\n",
    "            equal_genders.append('false')\n",
    "    return pd.DataFrame({'f':np.asarray(female),\n",
    "                        'm': np.asarray(male),\n",
    "                        'equal': np.asarray(equal_genders)}, index=disciplines)"
   ]
  },
  {
   "cell_type": "code",
   "execution_count": 162,
   "metadata": {},
   "outputs": [
    {
     "data": {
      "text/html": [
       "<div>\n",
       "<style scoped>\n",
       "    .dataframe tbody tr th:only-of-type {\n",
       "        vertical-align: middle;\n",
       "    }\n",
       "\n",
       "    .dataframe tbody tr th {\n",
       "        vertical-align: top;\n",
       "    }\n",
       "\n",
       "    .dataframe thead th {\n",
       "        text-align: right;\n",
       "    }\n",
       "</style>\n",
       "<table border=\"1\" class=\"dataframe\">\n",
       "  <thead>\n",
       "    <tr style=\"text-align: right;\">\n",
       "      <th></th>\n",
       "      <th>f</th>\n",
       "      <th>m</th>\n",
       "      <th>equal</th>\n",
       "    </tr>\n",
       "  </thead>\n",
       "  <tbody>\n",
       "    <tr>\n",
       "      <th>Diving</th>\n",
       "      <td>28</td>\n",
       "      <td>29</td>\n",
       "      <td>false</td>\n",
       "    </tr>\n",
       "    <tr>\n",
       "      <th>Archery</th>\n",
       "      <td>64</td>\n",
       "      <td>64</td>\n",
       "      <td>true</td>\n",
       "    </tr>\n",
       "    <tr>\n",
       "      <th>Fencing</th>\n",
       "      <td>37</td>\n",
       "      <td>38</td>\n",
       "      <td>false</td>\n",
       "    </tr>\n",
       "    <tr>\n",
       "      <th>Modern Pentathlon</th>\n",
       "      <td>36</td>\n",
       "      <td>36</td>\n",
       "      <td>true</td>\n",
       "    </tr>\n",
       "    <tr>\n",
       "      <th>Athletics</th>\n",
       "      <td>118</td>\n",
       "      <td>116</td>\n",
       "      <td>false</td>\n",
       "    </tr>\n",
       "    <tr>\n",
       "      <th>Swimming</th>\n",
       "      <td>48</td>\n",
       "      <td>59</td>\n",
       "      <td>false</td>\n",
       "    </tr>\n",
       "    <tr>\n",
       "      <th>Cycling Road</th>\n",
       "      <td>67</td>\n",
       "      <td>143</td>\n",
       "      <td>false</td>\n",
       "    </tr>\n",
       "  </tbody>\n",
       "</table>\n",
       "</div>"
      ],
      "text/plain": [
       "                     f    m  equal\n",
       "Diving              28   29  false\n",
       "Archery             64   64   true\n",
       "Fencing             37   38  false\n",
       "Modern Pentathlon   36   36   true\n",
       "Athletics          118  116  false\n",
       "Swimming            48   59  false\n",
       "Cycling Road        67  143  false"
      ]
     },
     "execution_count": 162,
     "metadata": {},
     "output_type": "execute_result"
    }
   ],
   "source": [
    "per_sport = gender_per_sport(alldata)\n",
    "#Male and female athletes per sport, where there are equal numbers of participants\n",
    "# per_sport.loc[per_sport['equal'] == 'true']\n",
    "per_sport"
   ]
  }
 ],
 "metadata": {
  "kernelspec": {
   "display_name": "Python 3",
   "language": "python",
   "name": "python3"
  },
  "language_info": {
   "codemirror_mode": {
    "name": "ipython",
    "version": 3
   },
   "file_extension": ".py",
   "mimetype": "text/x-python",
   "name": "python",
   "nbconvert_exporter": "python",
   "pygments_lexer": "ipython3",
   "version": "3.6.6"
  }
 },
 "nbformat": 4,
 "nbformat_minor": 2
}
