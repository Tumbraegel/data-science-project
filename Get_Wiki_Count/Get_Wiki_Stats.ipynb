{
 "cells": [
  {
   "cell_type": "code",
   "execution_count": null,
   "metadata": {},
   "outputs": [],
   "source": [
    "import pandas as pd\n",
    "import requests\n",
    "import wikipedia as wp\n",
    "import csv\n",
    "from urllib.parse import unquote\n",
    "from unidecode import unidecode"
   ]
  },
  {
   "cell_type": "code",
   "execution_count": null,
   "metadata": {},
   "outputs": [],
   "source": [
    "# read wiki links and convert to strings\n",
    "wiki_links = pd.read_csv('wiki_links.csv').filter(['URL'])\n",
    "wiki_links['URL'] = wiki_links.URL.astype(str)\n",
    "wiki_links = wiki_links['URL'].tolist()\n",
    "wiki_links = [unquote(element) for element in wiki_links]\n",
    "\n",
    "wiki_dict = dict([ (element, unidecode(element)) for element in wiki_links ])\n",
    "\n",
    "for i in wiki_dict.keys():\n",
    "    wiki_dict[i] = wiki_dict[i].lower()"
   ]
  },
  {
   "cell_type": "code",
   "execution_count": null,
   "metadata": {},
   "outputs": [],
   "source": [
    "def clean_data(df):\n",
    "    # remove duplicate entries\n",
    "    # reset index\n",
    "    # add columns for name and URL\n",
    "    df.drop_duplicates(['Names'], keep='first', inplace=True)\n",
    "    df.reset_index(drop=True, inplace = True)\n",
    "    df = add_name_url_columns(df)    \n",
    "    return df"
   ]
  },
  {
   "cell_type": "code",
   "execution_count": null,
   "metadata": {},
   "outputs": [],
   "source": [
    "# iterate over results data frame and find URL in wiki_links corresponding to athelete's name\n",
    "# add URL to results data frame\n",
    "def get_wiki_links(df):\n",
    "    for x in range(len(df)):\n",
    "        name = df['Names'].values[x]\n",
    "        name_list = name.split()\n",
    "        link = find_link(name_list)\n",
    "        if(len(link) == 1):\n",
    "            name_str = ' '.join(link)\n",
    "            name_str = name_str[name_str.rindex('/') + 1:]        \n",
    "            df.loc[x, 'URL'] = name_str\n",
    "    print('Done')"
   ]
  },
  {
   "cell_type": "code",
   "execution_count": null,
   "metadata": {},
   "outputs": [],
   "source": [
    "def find_link(name_list):\n",
    "    link = None\n",
    "    link = [ key for key,value in wiki_dict.items() if all(c in value for c in name_list) ]    \n",
    "    return link\n",
    "    "
   ]
  },
  {
   "cell_type": "code",
   "execution_count": null,
   "metadata": {},
   "outputs": [],
   "source": [
    "def reduce_string(string):\n",
    "    string = string.split('== References ==', 1)[0]\n",
    "    return string.replace('\\n', ' ').replace('\\r', '').replace(\"==\", \"\").replace(\"=\", \"\")"
   ]
  },
  {
   "cell_type": "code",
   "execution_count": null,
   "metadata": {},
   "outputs": [],
   "source": [
    "def count(string):\n",
    "    counter = 0\n",
    "    saw_space = False\n",
    "    for char in string:\n",
    "        if char == \" \":\n",
    "            if not saw_space:\n",
    "                counter += 1\n",
    "            saw_space = True\n",
    "        else:\n",
    "            saw_space = False\n",
    "    return counter"
   ]
  },
  {
   "cell_type": "code",
   "execution_count": null,
   "metadata": {},
   "outputs": [],
   "source": [
    "def count_words(wiki_title):    \n",
    "    wordcount = 0\n",
    "    article = None\n",
    "    if wiki_title is not None:\n",
    "        wiki_title = wiki_title.replace('-', '_')\n",
    "        wiki_title = wiki_title.replace('_(', ' (')\n",
    "        try:\n",
    "            article = wp.page(wiki_title)\n",
    "        \n",
    "        except wp.PageError as pe:\n",
    "            wiki_title = wiki_title.replace('_', ' ')\n",
    "            try:\n",
    "                article = wp.page(wiki_title)\n",
    "            except wp.PageError as pe_2:\n",
    "                print('Page Error: ' + wiki_title)   \n",
    "                \n",
    "            except wp.DisambiguationError as de:        \n",
    "                print('DisambiguationError' + wiki_title) \n",
    "            \n",
    "        except wp.DisambiguationError as de:        \n",
    "            print('DisambiguationError' + wiki_title)  \n",
    "                  \n",
    "    if article != None:\n",
    "        article = article.content        \n",
    "        wordcount = count(reduce_string(article))\n",
    "    \n",
    "    return wordcount"
   ]
  },
  {
   "cell_type": "code",
   "execution_count": null,
   "metadata": {},
   "outputs": [],
   "source": [
    "def add_name_url_columns(df):\n",
    "    \n",
    "    df['Wiki_Count'] = 0 # add Wiki_Count column with initial value of 0\n",
    "    df['URL'] = None # add URL column\n",
    "    \n",
    "    df['Names'] = df['Names'].str.replace(',', '')\n",
    "    df['Names'] = df['Names'].str.replace('-', ' ')\n",
    "    df['Names'] = df['Names'].str.lower()\n",
    "    return df"
   ]
  },
  {
   "cell_type": "code",
   "execution_count": null,
   "metadata": {},
   "outputs": [],
   "source": [
    "def filter_event(discipline, event):\n",
    "    Frame = results.loc[(results['Discipline'] == discipline)\n",
    "                             & (results['Event'] == event)]                     \n",
    "    Frame = pd.DataFrame(Frame)\n",
    "    Frame = clean_data(Frame)  \n",
    "       \n",
    "    return Frame\n"
   ]
  },
  {
   "cell_type": "code",
   "execution_count": null,
   "metadata": {
    "scrolled": true
   },
   "outputs": [],
   "source": [
    "def get_wikipedia_count(Competition, keyword):    \n",
    "    for x in range(len(Competition.index)):   \n",
    "        print(x, end=\" \")\n",
    "        #name_short = Competition['Names'].values[x]     \n",
    "        #name_long = name_short + '_({})'.format(keyword)        \n",
    "        Competition.loc[x,'Wiki_Count'] = count_words(Competition['URL'].values[x]) \n",
    "    print('Done')\n",
    "    return Competition      \n"
   ]
  },
  {
   "cell_type": "code",
   "execution_count": null,
   "metadata": {},
   "outputs": [],
   "source": [
    "# read results from Olympic Games in Rio 2016 from Excel to data frame\n",
    "# filter results data frame to relevant columns\n",
    "results = pd.read_excel('Results_Rio_2016.xlsx')\n",
    "results = results.filter(['Sport', 'Discipline', 'Event', 'Phase', 'Names', 'Gender', 'Rank', 'Results'], axis=1)"
   ]
  },
  {
   "cell_type": "code",
   "execution_count": null,
   "metadata": {
    "scrolled": false
   },
   "outputs": [],
   "source": [
    "# get diving results and correct name\n",
    "Athletes_100m = filter_event('Athletics', '100m')\n",
    "get_wiki_links(Athletes_100m)\n",
    "\n",
    "Athletes_100m.loc[Athletes_100m['Names'] == \"cambridge aska\", 'URL'] = \"Asuka_Cambridge\"\n",
    "Athletes_100m.loc[Athletes_100m['Names'] == \"ismail md fakhri\", 'URL'] = \"Mohamed_Fakhri_Ismail\"\n",
    "Athletes_100m.loc[Athletes_100m['Names'] == \"al harthi barakat mubarak\", 'URL'] = \"Barakat_Al-Harthi\"\n",
    "Athletes_100m.loc[Athletes_100m['Names'] == \"kim kukyoung\", 'URL'] = \"Kim_Kuk-young\"\n",
    "Athletes_100m.loc[Athletes_100m['Names'] == \"kitson kapririel\", 'URL'] = \"Kitson_Kapiriel\"\n",
    "Athletes_100m.loc[Athletes_100m['Names'] == \"povkh olesya\", 'URL'] = \"Olesya_Povh\"\n",
    "Athletes_100m.loc[Athletes_100m['Names'] == \"pohrebniak natalia\", 'URL'] = \"Nataliya_Pohrebnyak\"\n",
    "Athletes_100m.loc[Athletes_100m['Names'] == \"bazolo lorene dorcas\", 'URL'] = \"Lorène_Bazolo\"\n",
    "Athletes_100m.loc[Athletes_100m['Names'] == \"seavula sisila\", 'URL'] = \"Sisilia_Seavula\"\n",
    "Athletes_100m.loc[Athletes_100m['Names'] == \"stuy khrystyna\", 'URL'] = \"Hrystyna_Stuy\"\n",
    "Athletes_100m.loc[Athletes_100m['Names'] == \"bouele cecilia\", 'URL'] = \"Marcelle_Bouele_Bondo\"\n",
    "Athletes_100m.loc[Athletes_100m['Names'] == \"al alawi mazoon\", 'URL'] = \"Mazoon Al Alawi\"\n",
    "\n",
    "Athletes_100m.loc[Athletes_100m['Names'] == \"fisher andrew\", 'URL'] = \"Andrew Fisher (sprinter)\"\n",
    "Athletes_100m.loc[Athletes_100m['Names'] == \"ogunlewe seye\", 'URL'] = \"Seye Ogunlewe (athlete)\"\n",
    "\n",
    "# get Wikipedia article count\n",
    "get_wikipedia_count(Athletes_100m, 'athlete')\n"
   ]
  },
  {
   "cell_type": "code",
   "execution_count": null,
   "metadata": {},
   "outputs": [],
   "source": [
    "# get diving results and correct name\n",
    "Diving_10m = filter_event('Diving', '10m platform')\n",
    "get_wiki_links(Diving_10m)\n",
    "\n",
    "Diving_10m.loc[Diving_10m['Names'] == \"minibaev victor\", 'URL'] = \"Viktor_Minibaev\"\n",
    "Diving_10m.loc[Diving_10m['Names'] == \"ren qian\", 'URL'] = \"Ren_Qian\"\n",
    "Diving_10m.loc[Diving_10m['Names'] == \"woo haram\", 'URL'] = \"Woo_Ha-ram\"\n",
    "Diving_10m.loc[Diving_10m['Names'] == \"pamg pandelela rinong\", 'URL'] = \"Pandelela_Rinong\"\n",
    "Diving_10m.loc[Diving_10m['Names'] == \"prokopchuk iuliia\", 'URL'] = \"Yulia_Prokopchuk\"\n",
    "Diving_10m.loc[Diving_10m['Names'] == \"obrien brittany\", 'URL'] = \"Brittany_O'Brien\"\n",
    "Diving_10m.loc[Diving_10m['Names'] == \"krasnoshlyk ganna\", 'URL'] = \"Hanna_Krasnoshlyk\"\n",
    "Diving_10m.loc[Diving_10m['Names'] == \"abdel salam maha\", 'URL'] = \"Maha_Gouda\"\n",
    "Diving_10m.loc[Diving_10m['Names'] == \"kim kuk hyang\", 'URL'] = \"Kim_Kuk-hyang_(diver)\"\n",
    "Diving_10m.loc[Diving_10m['Names'] == \"quintero rafael\", 'URL'] = \"Rafael Quintero (diver)\"\n",
    "Diving_10m.loc[Diving_10m['Names'] == \"riendeau vincent\", 'URL'] = \"Vincent Riendeau (diver)\"\n",
    "\n",
    "\n",
    "# get Wikipedia article count\n",
    "get_wikipedia_count(Diving_10m, 'diver')\n",
    "\n",
    "Diving_10m.loc[Diving_10m['Names'] == \"kim kuk hyang\", 'Wiki_Count'] = 125\n"
   ]
  },
  {
   "cell_type": "code",
   "execution_count": null,
   "metadata": {},
   "outputs": [],
   "source": [
    "Archery = filter_event('Archery', 'Individual Competition')\n",
    "\n",
    "# get article length\n",
    "get_wiki_links(Archery)\n",
    "\n",
    "Archery.loc[Archery['Names'] == \"ku bonchan\", 'URL'] = \"Ku_Bon-chan\"\n",
    "Archery.loc[Archery['Names'] == \"lee seungyun\", 'URL'] = \"Lee_Seung-yun\"\n",
    "Archery.loc[Archery['Names'] == \"rodriguez liebana juan ignacio\", 'URL'] = \"Juan_Ignacio_Rodríguez\"\n",
    "Archery.loc[Archery['Names'] == \"puentes perez adrian andres\", 'URL'] = \"Adrián_Puentes\"\n",
    "Archery.loc[Archery['Names'] == \"alvarino garcia miguel\", 'URL'] = \"Miguel_Alvariño\"\n",
    "Archery.loc[Archery['Names'] == \"kim woojin\", 'URL'] = \"Kim_Woo-jin\"\n",
    "Archery.loc[Archery['Names'] == \"nesteng baard\", 'URL'] = \"Bård_Nesteng\"\n",
    "Archery.loc[Archery['Names'] == \"prilepov anton\", 'URL'] = \"Anton_Prylepau\"\n",
    "Archery.loc[Archery['Names'] == \"rezende xavier daniel\", 'URL'] = \"Daniel_Xavier\"\n",
    "Archery.loc[Archery['Names'] == \"dalmeida marcus\", 'URL'] = \"Marcus_Vinicius_D'Almeida\"\n",
    "Archery.loc[Archery['Names'] == \"kouassi rene philippe\", 'URL'] = \"Philippe_Kouassi\"\n",
    "Archery.loc[Archery['Names'] == \"pila solano andres\", 'URL'] = \"Andrés_Pila\"\n",
    "Archery.loc[Archery['Names'] == \"elder robert\", 'URL'] = \"Rob_Elder\"\n",
    "Archery.loc[Archery['Names'] == \"nor hasrin muhammad akmal\", 'URL'] = \"Akmal_Nor_Hasrin\"\n",
    "Archery.loc[Archery['Names'] == \"gantugs jantsan\", 'URL'] = \"Jantsangiin_Gantögs\"\n",
    "Archery.loc[Archery['Names'] == \"muktan jitbahadur\", 'URL'] = \"Jit_Bahadur_Muktan\"\n",
    "Archery.loc[Archery['Names'] == \"sutherland gavin ben\", 'URL'] = \"Gavin_Sutherland_(archer)\"\n",
    "Archery.loc[Archery['Names'] == \"chang hyejin\", 'URL'] = \"Chang_Hye-jin\"\n",
    "Archery.loc[Archery['Names'] == \"ki bobae\", 'URL'] = \"Ki_Bo-bae\"\n",
    "Archery.loc[Archery['Names'] == \"choi misun\", 'URL'] = \"Choi_Mi-sun\"\n",
    "Archery.loc[Archery['Names'] == \"dashidorzhieva tuiana\", 'URL'] = \"Tuyana_Dashidorzhieva\"\n",
    "Archery.loc[Archery['Names'] == \"karma karma\", 'URL'] = \"Karma_(archer)\"\n",
    "Archery.loc[Archery['Names'] == \"thiffeault picard georcy\", 'URL'] = \"Georcy-Stéphanie_Picard\"\n",
    "Archery.loc[Archery['Names'] == \"rendon ana maria\", 'URL'] = \"Ana_Rendón\"\n",
    "Archery.loc[Archery['Names'] == \"camilo gonzalez yessica\", 'URL'] = \"Yessica_Camilo\"\n",
    "Archery.loc[Archery['Names'] == \"lipiarska palka karina\", 'URL'] = \"Karina_Lipiarska\"\n",
    "\n",
    "# get wikipedia count\n",
    "get_wikipedia_count(Archery, 'archer')"
   ]
  },
  {
   "cell_type": "code",
   "execution_count": null,
   "metadata": {},
   "outputs": [],
   "source": [
    "Pole_Vault = filter_event('Athletics', 'pole vault')\n",
    "get_wiki_links(Pole_Vault)\n",
    "\n",
    "Pole_Vault.loc[Pole_Vault['Names'] == \"filippidis konstadinos\", 'URL'] = \"Konstantinos_Filippidis\"\n",
    "Pole_Vault.loc[Pole_Vault['Names'] == \"svard jacobsson melker\", 'URL'] = \"Melker_Svärd_Jacobsson\"\n",
    "Pole_Vault.loc[Pole_Vault['Names'] == \"stefanidi ekaterini\", 'URL'] = \"Katerina_Stefanidi\"\n",
    "Pole_Vault.loc[Pole_Vault['Names'] == \"bleasdale holly\", 'URL'] = \"Holly_Bradshaw\"\n",
    "Pole_Vault.loc[Pole_Vault['Names'] == \"suhr jennifer\", 'URL'] = \"Jenn_Suhr\"\n",
    "Pole_Vault.loc[Pole_Vault['Names'] == \"peinado robeilys\", 'URL'] = \"Robeilys_Peinado\"\n",
    "Pole_Vault.loc[Pole_Vault['Names'] == \"li ling\", 'URL'] = \"Li_Ling_(pole_vaulter)\"\n",
    "Pole_Vault.loc[Pole_Vault['Names'] == \"yakaltsevich iryna\", 'URL'] = \"Iryna_Zhuk\"\n",
    "Pole_Vault.loc[Pole_Vault['Names'] == \"kyriakopoulou nikoleta\", 'URL'] = \"Nikoleta_Kyriakopoulou\"\n",
    "\n",
    "# get wikipedia count\n",
    "get_wikipedia_count(Pole_Vault, 'athlete')\n",
    "\n"
   ]
  },
  {
   "cell_type": "code",
   "execution_count": null,
   "metadata": {},
   "outputs": [],
   "source": [
    "Modern_Pentathlon = filter_event('Modern Pentathlon', 'Individual competition')\n",
    "\n",
    "get_wiki_links(Modern_Pentathlon)\n",
    "\n",
    "Modern_Pentathlon.loc[Modern_Pentathlon['Names'] == \"lesun alexander\", 'URL'] = \"Aleksander_Lesun\"\n",
    "Modern_Pentathlon.loc[Modern_Pentathlon['Names'] == \"hernandez uscanga ismael\", 'URL'] = \"Ismael_Hernández_(pentathlete)\"\n",
    "Modern_Pentathlon.loc[Modern_Pentathlon['Names'] == \"lanigan okeeffe arthur\", 'URL'] = \"Arthur_Lanigan-O'Keeffe\"\n",
    "Modern_Pentathlon.loc[Modern_Pentathlon['Names'] == \"choong joseph\", 'URL'] = \"Joe_Choong\"\n",
    "Modern_Pentathlon.loc[Modern_Pentathlon['Names'] == \"jung jinhwa\", 'URL'] = \"Jung_Jin-hwa\"\n",
    "Modern_Pentathlon.loc[Modern_Pentathlon['Names'] == \"cooke jamie\", 'URL'] = \"James_Cooke_(pentathlete)\"\n",
    "Modern_Pentathlon.loc[Modern_Pentathlon['Names'] == \"jun woongtae\", 'URL'] = \"Jun_Woong-tae\"\n",
    "Modern_Pentathlon.loc[Modern_Pentathlon['Names'] == \"nakonechnyi ruslans\", 'URL'] = \"Ruslans_Nakoņečnijs\"\n",
    "Modern_Pentathlon.loc[Modern_Pentathlon['Names'] == \"iliashenko pavel\", 'URL'] = \"Pavel_Ilyashenko\"\n",
    "Modern_Pentathlon.loc[Modern_Pentathlon['Names'] == \"kim sunwoo\", 'URL'] = \"Kim_Sun-woo_(pentathlete)\"\n",
    "Modern_Pentathlon.loc[Modern_Pentathlon['Names'] == \"marques yane marcia\", 'URL'] = \"Yane_Marques\"\n",
    "Modern_Pentathlon.loc[Modern_Pentathlon['Names'] == \"moya leydi laura\", 'URL'] = \"Leydi_Moya\"\n",
    "\n",
    "\n",
    "get_wikipedia_count(Modern_Pentathlon, 'athlete')"
   ]
  },
  {
   "cell_type": "code",
   "execution_count": null,
   "metadata": {},
   "outputs": [],
   "source": [
    "Fencing_Epee = filter_event('Fencing', 'épée individual')\n",
    "get_wiki_links(Fencing_Epee)\n",
    "\n",
    "Fencing_Epee.loc[Fencing_Epee['Names'] == \"park sangyoung\", 'URL'] = \"Park_Sang-young\"\n",
    "Fencing_Epee.loc[Fencing_Epee['Names'] == \"nikishin bogdan\", 'URL'] = \"Bohdan_Nikishyn\"\n",
    "Fencing_Epee.loc[Fencing_Epee['Names'] == \"limardo gascon francisco a.\", 'URL'] = \"Francisco_Limardo\"\n",
    "Fencing_Epee.loc[Fencing_Epee['Names'] == \"park kyoungdoo\", 'URL'] = \"Park_Kyoung-doo\"\n",
    "Fencing_Epee.loc[Fencing_Epee['Names'] == \"limardo gascon ruben\", 'URL'] = \"Rubén_Limardo\"\n",
    "Fencing_Epee.loc[Fencing_Epee['Names'] == \"herey anatolii\", 'URL'] = \"Anatoliy_Herey\"\n",
    "Fencing_Epee.loc[Fencing_Epee['Names'] == \"rodriguez john edison\", 'URL'] = \"Jhon_Édison_Rodríguez\"\n",
    "Fencing_Epee.loc[Fencing_Epee['Names'] == \"jung jinsun\", 'URL'] = \"Jung_Jin-sun\"\n",
    "Fencing_Epee.loc[Fencing_Epee['Names'] == \"alshatti abdulaziz\", 'URL'] = \"Abdulaziz_Al-Shatti\"\n",
    "Fencing_Epee.loc[Fencing_Epee['Names'] == \"choi injeong\", 'URL'] = \"Choi_In-jeong\"\n",
    "Fencing_Epee.loc[Fencing_Epee['Names'] == \"nakano nozomi\", 'URL'] = \"Nozomi_Satō\"\n",
    "Fencing_Epee.loc[Fencing_Epee['Names'] == \"branza ana maria\", 'URL'] = \"Ana_Maria_Popescu\"\n",
    "Fencing_Epee.loc[Fencing_Epee['Names'] == \"kong man wai vivian\", 'URL'] = \"Vivian_Kong\"\n",
    "\n",
    "get_wikipedia_count(Fencing_Epee, 'fencer')\n"
   ]
  },
  {
   "cell_type": "code",
   "execution_count": null,
   "metadata": {},
   "outputs": [],
   "source": [
    "Swimming_100m_freestyle = filter_event('Swimming', '100m freestyle')\n",
    "\n",
    "get_wiki_links(Swimming_100m_freestyle)\n",
    "\n",
    "Swimming_100m_freestyle.loc[Swimming_100m_freestyle['Names'] == \"perez urena jhonny\", 'URL'] = \"Jhonny_Pérez\"\n",
    "Swimming_100m_freestyle.loc[Swimming_100m_freestyle['Names'] == \"gunn sean michael\", 'URL'] = \"Sean_Gunn_(swimmer)\"\n",
    "Swimming_100m_freestyle.loc[Swimming_100m_freestyle['Names'] == \"hockin brusquetti benjamin\", 'URL'] = \"Ben_Hockin\"\n",
    "Swimming_100m_freestyle.loc[Swimming_100m_freestyle['Names'] == \"park taehwan\", 'URL'] = \"Park_Tae-hwan\"\n",
    "Swimming_100m_freestyle.loc[Swimming_100m_freestyle['Names'] == \"gkolomeev kristian\", 'URL'] = \"Kristian_Golomeev\"\n",
    "Swimming_100m_freestyle.loc[Swimming_100m_freestyle['Names'] == \"nilo nicolas\", 'URL'] = \"Nicolas_Oliveira\"\n",
    "Swimming_100m_freestyle.loc[Swimming_100m_freestyle['Names'] == \"riveros schulz karen\", 'URL'] = \"Karen_Riveros\"\n",
    "Swimming_100m_freestyle.loc[Swimming_100m_freestyle['Names'] == \"popova veronika\", 'URL'] = \"Veronika_Andrusenko\"\n",
    "Swimming_100m_freestyle.loc[Swimming_100m_freestyle['Names'] == \"lovtcova natalia\", 'URL'] = \"Nataliya_Lovtsova\"\n",
    "\n",
    "get_wikipedia_count(Swimming_100m_freestyle, 'swimmer')"
   ]
  },
  {
   "cell_type": "code",
   "execution_count": null,
   "metadata": {},
   "outputs": [],
   "source": [
    "Cycling_Road = filter_event('Cycling Road', 'individual road race')\n",
    "\n",
    "Cycling_Road_Men = Cycling_Road.loc[Cycling_Road['Gender'] == 'Men'] # first 30 rows of dataframe\n",
    "Cycling_Road_Women = Cycling_Road.loc[Cycling_Road['Gender'] == 'Women']\n",
    "\n",
    "Cycling_Road_Men = Cycling_Road_Men.iloc[0:30]\n",
    "Cycling_Road_Women = Cycling_Road_Women.iloc[0:30]\n",
    "\n",
    "Cycling_Road = Cycling_Road_Men.append(Cycling_Road_Women)\n",
    "Cycling_Road.reset_index(drop=True, inplace = True)\n",
    "\n",
    "Cycling_Road.loc[Cycling_Road['Names'] == \"rodriguez oliver joaquim\", 'URL'] = \"Joaquim_Rodríguez\"\n",
    "Cycling_Road.loc[Cycling_Road['Names'] == \"costa rui alberto faria\", 'URL'] = \"Rui_Costa_(cyclist)\"\n",
    "Cycling_Road.loc[Cycling_Road['Names'] == \"froome christopher\", 'URL'] = \"Chris_Froome\"\n",
    "Cycling_Road.loc[Cycling_Road['Names'] == \"chaves rubio jhoan esteban\", 'URL'] = \"Esteban_Chaves\"\n",
    "Cycling_Road.loc[Cycling_Road['Names'] == \"valverde belmonte alejandro\", 'URL'] = \"Alejandro_Valverde\"\n",
    "Cycling_Road.loc[Cycling_Road['Names'] == \"armitstead elizabeth\", 'URL'] = \"Lizzie_Deignan\"\n",
    "Cycling_Road.loc[Cycling_Road['Names'] == \"moolman pasio ashleigh\", 'URL'] = \"Ashleigh_Moolman\"\n",
    "Cycling_Road.loc[Cycling_Road['Names'] == \"jasinska malgorzta\", 'URL'] = \"Małgorzata_Jasińska\"\n",
    "Cycling_Road.loc[Cycling_Road['Names'] == \"sierra canadilla arlenis\", 'URL'] = \"Arlenis_Sierra\"\n",
    "Cycling_Road.loc[Cycling_Road['Names'] == \"na ahreum\", 'URL'] = \"Na_Ah-reum\"\n",
    "\n",
    "get_wiki_links(Cycling_Road)\n",
    "\n",
    "get_wikipedia_count(Cycling_Road, 'cyclist')\n"
   ]
  },
  {
   "cell_type": "code",
   "execution_count": null,
   "metadata": {},
   "outputs": [],
   "source": [
    "writer = pd.ExcelWriter('results_with_wiki_count.xlsx')\n",
    "\n",
    "Diving_10m.to_excel(writer, 'Diving_10m')\n",
    "Athletes_100m.to_excel(writer, 'Athletes_100m')\n",
    "Archery.to_excel(writer, 'Archery')\n",
    "Pole_Vault.to_excel(writer, 'Pole_Vault')\n",
    "Modern_Pentathlon.to_excel(writer, 'Modern_Pentathlon')\n",
    "Fencing_Epee.to_excel(writer, 'Fencing_Epee')\n",
    "Swimming_100m_freestyle.to_excel(writer, 'Swimming_100m_Freestyle')\n",
    "Cycling_Road.to_excel(writer, 'Cycling_Road')\n",
    "writer.save()"
   ]
  },
  {
   "cell_type": "code",
   "execution_count": null,
   "metadata": {},
   "outputs": [],
   "source": []
  }
 ],
 "metadata": {
  "kernelspec": {
   "display_name": "Python 3",
   "language": "python",
   "name": "python3"
  },
  "language_info": {
   "codemirror_mode": {
    "name": "ipython",
    "version": 3
   },
   "file_extension": ".py",
   "mimetype": "text/x-python",
   "name": "python",
   "nbconvert_exporter": "python",
   "pygments_lexer": "ipython3",
   "version": "3.6.7"
  }
 },
 "nbformat": 4,
 "nbformat_minor": 2
}
