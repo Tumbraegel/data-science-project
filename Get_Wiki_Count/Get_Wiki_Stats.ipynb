{
 "cells": [
  {
   "cell_type": "code",
   "execution_count": null,
   "metadata": {},
   "outputs": [],
   "source": [
    "import pandas as pd\n",
    "import requests\n",
    "import wikipedia as wp"
   ]
  },
  {
   "cell_type": "code",
   "execution_count": null,
   "metadata": {},
   "outputs": [],
   "source": [
    "results = pd.read_excel('Results_Rio_2016.xlsx')\n",
    "results = pd.DataFrame(results)\n",
    "results = results.filter(['Sport', 'Discipline', 'Event', 'Phase', 'Names', 'Gender', 'Rank', 'Results'], axis=1)"
   ]
  },
  {
   "cell_type": "code",
   "execution_count": null,
   "metadata": {},
   "outputs": [],
   "source": [
    "def reduce_string(string):\n",
    "    string = string.split('== References ==', 1)[0]\n",
    "    return string.replace('\\n', ' ').replace('\\r', '').replace(\"==\", \"\").replace(\"=\", \"\")"
   ]
  },
  {
   "cell_type": "code",
   "execution_count": null,
   "metadata": {},
   "outputs": [],
   "source": [
    "def count(string):\n",
    "    counter = 0\n",
    "    saw_space = False\n",
    "    for char in string:\n",
    "        if char == \" \":\n",
    "            if not saw_space:\n",
    "                counter += 1\n",
    "            saw_space = True\n",
    "        else:\n",
    "            saw_space = False\n",
    "    return counter"
   ]
  },
  {
   "cell_type": "code",
   "execution_count": null,
   "metadata": {},
   "outputs": [],
   "source": [
    "def count_words(name_short, keyword):    \n",
    "    wordcount = 0\n",
    "    article = None\n",
    "    try:\n",
    "        article = wp.page(name_short)\n",
    "        \n",
    "    except wp.PageError as pe:\n",
    "        print('Page Error:' + name_short)        \n",
    "        \n",
    "        article = count_words_long_name(name_short, keyword)\n",
    "            \n",
    "    except wp.DisambiguationError as de_1:        \n",
    "        matching = [s for s in de_1.args[1] if keyword in s]\n",
    "        string = ''.join(matching)        \n",
    "        string = string.replace(' ', '_')\n",
    "        string = string.replace('-', '_')        \n",
    "        string = string.replace('_(', ' (')\n",
    "        print(string)\n",
    "        \n",
    "        try:            \n",
    "            article = wp.page(string)\n",
    "        except wp.DisambiguationError as de_2:\n",
    "            print('DisambiguationError: ' + str(de_2.args))\n",
    "        except wp.WikipediaException as we:            \n",
    "            print('Wikipedia Exception: ' + str(we.args))\n",
    "            \n",
    "        except wp.PageError as pe_2:\n",
    "            print('Page Error: ' + str(pe_2.args))       \n",
    "                \n",
    "    if article != None:\n",
    "        article = article.content        \n",
    "        wordcount = count(reduce_string(article))\n",
    "    \n",
    "    return wordcount"
   ]
  },
  {
   "cell_type": "code",
   "execution_count": null,
   "metadata": {},
   "outputs": [],
   "source": [
    "def count_words_long_name(name_short, keyword):\n",
    "    article = None\n",
    "    try:\n",
    "        article = wp.page(name_short + ' (' + keyword + ')')\n",
    "    except wp.DisambiguationError as de_1:\n",
    "        print(\"DisambiguationError:\" + name_short)\n",
    "    except wp.WikipediaException as we:\n",
    "        print('Wikipedia Exception: ' + name_short)\n",
    "    except wp.PageError as pe_2:\n",
    "            print('Page Error: ' + name_short)\n",
    "    return article"
   ]
  },
  {
   "cell_type": "code",
   "execution_count": null,
   "metadata": {},
   "outputs": [],
   "source": [
    "def add_name_column(Frame):\n",
    "    # add Wiki_Count column with initial value of 1\n",
    "    Frame['Wiki_Count'] = 0    \n",
    "    # change order of names to firstName_lastName\n",
    "    Frame['Names'] = Frame['Names'].str.split(', ').str[1] + ' ' + Frame['Names'].str.split(', ').str[0]\n",
    "    # add underscores and capitalize first letter of name\n",
    "    Frame['Names'] = Frame['Names'].str.replace(' ', '_')\n",
    "    Frame['Names'] = Frame['Names'].str.replace('-', '_')\n",
    "    Frame['Names'] = Frame['Names'].str.title()\n",
    "    return Frame"
   ]
  },
  {
   "cell_type": "code",
   "execution_count": null,
   "metadata": {},
   "outputs": [],
   "source": [
    "def clean_data(Frame):\n",
    "    # remove duplicate entries and reset index\n",
    "    Frame.drop_duplicates(['Names'], keep='first', inplace=True)\n",
    "    Frame.reset_index(drop=True, inplace = True)\n",
    "    \n",
    "    # add column for Wiki_Count and edit names\n",
    "    Frame = add_name_column(Frame)\n",
    "    return Frame"
   ]
  },
  {
   "cell_type": "code",
   "execution_count": null,
   "metadata": {},
   "outputs": [],
   "source": [
    "def filter_event(discipline, event):\n",
    "    Frame = results.loc[(results['Discipline'] == discipline)\n",
    "                             & (results['Event'] == event)]                     \n",
    "    Frame = pd.DataFrame(Frame)\n",
    "    Frame = clean_data(Frame)  \n",
    "       \n",
    "    return Frame\n"
   ]
  },
  {
   "cell_type": "code",
   "execution_count": null,
   "metadata": {
    "scrolled": true
   },
   "outputs": [],
   "source": [
    "def get_wikipedia_count(Competition, keyword):    \n",
    "    for x in range(len(Competition.index)):   \n",
    "        print(x, end=\" \")\n",
    "        name_short = Competition['Names'].values[x]     \n",
    "        name_long = name_short + '_({})'.format(keyword)        \n",
    "        Competition.loc[x,'Wiki_Count'] = count_words(name_short, keyword) \n",
    "    print('Done')\n",
    "    return Competition      \n"
   ]
  },
  {
   "cell_type": "code",
   "execution_count": null,
   "metadata": {},
   "outputs": [],
   "source": [
    "# get diving results and correct name\n",
    "Athletes_100m = filter_event('Athletics', '100m')\n",
    "\n",
    "Athletes_100m.loc[Athletes_100m['Names'] == \"Richard_Thompson\", 'Names'] = \"Richard_Thompson (sprinter)\"\n",
    "Athletes_100m.loc[Athletes_100m['Names'] == \"Aaron_Brown\", 'Names'] = \"Aaron_Brown (sprinter)\"\n",
    "\n",
    "\n",
    "# get Wikipedia article count\n",
    "get_wikipedia_count(Athletes_100m, 'athlete')"
   ]
  },
  {
   "cell_type": "code",
   "execution_count": null,
   "metadata": {},
   "outputs": [],
   "source": [
    "# get diving results and correct name\n",
    "Diving_10m = filter_event('Diving', '10m platform')\n",
    "Diving_10m.loc[Diving_10m['Names'] == \"Brittany_Obrien\", 'Names'] = 'Brittany_O_Brien'\n",
    "\n",
    "# get Wikipedia article count\n",
    "get_wikipedia_count(Diving_10m, 'diver')\n"
   ]
  },
  {
   "cell_type": "code",
   "execution_count": null,
   "metadata": {},
   "outputs": [],
   "source": [
    "Archery = filter_event('Archery', 'Individual Competition')\n",
    "\n",
    "# correct names\n",
    "Archery.loc[Archery['Names'] == \"Bonchan_Ku\", 'Names'] = 'Ku_Bon_Chan'\n",
    "Archery.loc[Archery['Names'] == \"Seungyun_Lee\", 'Names'] = 'Lee_Seung_Yun'\n",
    "Archery.loc[Archery['Names'] == \"Chun_Heng_Wei\", 'Names'] = 'Wei_Chun_Heng'\n",
    "Archery.loc[Archery['Names'] == \"Yu_Xing\", 'Names'] = 'Xing_Yu'\n",
    "Archery.loc[Archery['Names'] == \"Andres_Pila_Solano\", 'Names'] = 'Andres_Pila'\n",
    "Archery.loc[Archery['Names'] == \"Bobae_Ki\", 'Names'] = 'Ki_Bo_Bae'\n",
    "Archery.loc[Archery['Names'] == \"Misun_Choi\", 'Names'] = 'Choi_Mi_Sun'\n",
    "Archery.loc[Archery['Names'] == \"Hui_Cao\", 'Names'] = 'Cao_Hui'\n",
    "Archery.loc[Archery['Names'] == \"Robert_Elder\", 'Names'] = 'Rob_Elder'\n",
    "\n",
    "# get article length\n",
    "get_wikipedia_count(Archery, 'archer')\n"
   ]
  },
  {
   "cell_type": "code",
   "execution_count": null,
   "metadata": {},
   "outputs": [],
   "source": [
    "Pole_Vault = filter_event('Athletics', 'pole vault')\n",
    "Pole_Vault.loc[Pole_Vault['Names'] == \"Augusto_De_Oliveira\", 'Names'] = 'Augusto_Dutra_de_Oliveira'\n",
    "Pole_Vault.loc[Pole_Vault['Names'] == \"Mengqian_Ren\", 'Names'] = 'Ren_Mengqian'\n",
    "Pole_Vault.loc[Pole_Vault['Names'] == \"Ling_Li\", 'Names'] = 'Li_Ling'\n",
    "\n",
    "get_wikipedia_count(Pole_Vault, 'athlete')\n",
    "\n",
    "Pole_Vault.loc[Pole_Vault['Names'] == \"Ivan_Horvat\", 'Wiki_Count'] = count_words('Ivan_Horvat (pole_vaulter)', '')\n",
    "\n"
   ]
  },
  {
   "cell_type": "code",
   "execution_count": null,
   "metadata": {},
   "outputs": [],
   "source": [
    "Modern_Pentathlon = filter_event('Modern Pentathlon', 'Individual competition')\n",
    "Modern_Pentathlon.loc[Modern_Pentathlon['Names'] == \"Arthur_Lanigan_Okeeffe\", 'Names'] = \"Arthur_Lanigan_O'Keeffe\"\n",
    "Modern_Pentathlon.loc[Modern_Pentathlon['Names'] == \"Yane_Marcia_Marques\", 'Names'] = \"Yane Marques\"\n",
    "\n",
    "get_wikipedia_count(Modern_Pentathlon, 'athlete')"
   ]
  },
  {
   "cell_type": "code",
   "execution_count": null,
   "metadata": {},
   "outputs": [],
   "source": [
    "Fencing_Epee = filter_event('Fencing', 'épée individual')\n",
    "Fencing_Epee.loc[Fencing_Epee['Names'] == \"Francisco_A._Limardo_Gascon\", 'Names'] = \"Francisco_Limardo\"\n",
    "Fencing_Epee.loc[Fencing_Epee['Names'] == \"Anatolii_Herey\", 'Names'] = \"Anatoliy_Herey\"\n",
    "Fencing_Epee.loc[Fencing_Epee['Names'] == \"Jinsun_Jung\", 'Names'] = \"Jung_Jin_Sun\"\n",
    "\n",
    "get_wikipedia_count(Fencing_Epee, 'fencer')\n",
    "Fencing_Epee.loc[Fencing_Epee['Names'] == \"Silvio_Fernandez\", 'Wiki_Count'] = count_words('Silvio Fernández (fencer born 1979)', '')\n"
   ]
  },
  {
   "cell_type": "code",
   "execution_count": null,
   "metadata": {},
   "outputs": [],
   "source": [
    "Swimming_100m_freestyle = filter_event('Swimming', '100m freestyle')\n",
    "Swimming_100m_freestyle.loc[Swimming_100m_freestyle['Names'] == \"Arseth_Heather\", 'Names'] = \"Heather_Arseth\"\n",
    "Swimming_100m_freestyle.loc[Swimming_100m_freestyle['Names'] == \"Taehwan_Park\", 'Names'] = \"Park_Tae_Hwan\"\n",
    "\n",
    "get_wikipedia_count(Swimming_100m_freestyle, 'swimmer')"
   ]
  },
  {
   "cell_type": "code",
   "execution_count": null,
   "metadata": {},
   "outputs": [],
   "source": [
    "Cycling_Road = filter_event('Cycling Road', 'individual road race')\n",
    "\n",
    "Cycling_Road.loc[Cycling_Road['Names'] == \"Daniel_Martin\", 'Names'] = \"Dan_Martin\"\n",
    "Cycling_Road.loc[Cycling_Road['Names'] == \"Andrey_Amador_Bakkazakova\", 'Names'] = \"Andrey_Amador\"\n",
    "Cycling_Road.loc[Cycling_Road['Names'] == \"Manuel_Rodas_Ochoa\", 'Names'] = \"Manuel_Rodas\"\n",
    "Cycling_Road.loc[Cycling_Road['Names'] == \"Yousef_Mirza_Banihammad\", 'Names'] = \"Yousif_Mirza\"\n",
    "Cycling_Road.loc[Cycling_Road['Names'] == \"Jose_Luis_Rodriguez\", 'Names'] = \"José_Luis_Rodríguez_Aguilar\"\n",
    "Cycling_Road.loc[Cycling_Road['Names'] == \"Joonyong_Seo\", 'Names'] = \"Seo_Joon_Yong\"\n",
    "Cycling_Road.loc[Cycling_Road['Names'] == \"Okcheol_Kim\", 'Names'] = \"Kim_Ok_Cheol\"\n",
    "Cycling_Road.loc[Cycling_Road['Names'] == \"Nelson_Filipe_S._Simoes_Oliveira\", 'Names'] = \"Nelson_Oliveira\"\n",
    "Cycling_Road.loc[Cycling_Road['Names'] == \"Andrii_Khripta\", 'Names'] = \"Andriy_Khripta\"\n",
    "Cycling_Road.loc[Cycling_Road['Names'] == \"Audrey_Cordon\", 'Names'] = \"Audrey_Cordon_Ragot\"\n",
    "\n",
    "get_wikipedia_count(Cycling_Road, 'cyclist')\n",
    "Cycling_Road.loc[Cycling_Road['Names'] == \"Alessandro_De_Marchi\", 'Wiki_Count'] = count_words('Alessandro_De_Marchi_(Cyclist)', '')\n",
    "Cycling_Road.loc[Cycling_Road['Names'] == \"Dan_Martin\", 'Wiki_Count'] = count_words('Dan Martin (cyclist)', '')\n",
    "Cycling_Road.loc[Cycling_Road['Names'] == \"Ann_Sophie_Duyck\", 'Wiki_Count'] = count_words('Ann_Sophie_Duyck', '')\n",
    "Cycling_Road.loc[Cycling_Road['Names'] == \"Zac_Williams\", 'Wiki_Count'] = 80\n",
    "\n",
    "\n"
   ]
  },
  {
   "cell_type": "code",
   "execution_count": null,
   "metadata": {},
   "outputs": [],
   "source": [
    "writer = pd.ExcelWriter('results_with_wiki_count.xlsx')\n",
    "\n",
    "Diving_10m.to_excel(writer, 'Diving_10m')\n",
    "Athletes_100m.to_excel(writer, 'Athletes_100m')\n",
    "Archery.to_excel(writer, 'Archery')\n",
    "Pole_Vault.to_excel(writer, 'Pole_Vault')\n",
    "Modern_Pentathlon.to_excel(writer, 'Modern_Pentathlon')\n",
    "Fencing_Epee.to_excel(writer, 'Fencing_Epee')\n",
    "Swimming_100m_freestyle.to_excel(writer, 'Swimming_100m_Freestyle')\n",
    "Cycling_Road.to_excel(writer, 'Cycling_Road')\n",
    "writer.save()"
   ]
  }
 ],
 "metadata": {
  "kernelspec": {
   "display_name": "Python 3",
   "language": "python",
   "name": "python3"
  },
  "language_info": {
   "codemirror_mode": {
    "name": "ipython",
    "version": 3
   },
   "file_extension": ".py",
   "mimetype": "text/x-python",
   "name": "python",
   "nbconvert_exporter": "python",
   "pygments_lexer": "ipython3",
   "version": "3.6.7"
  }
 },
 "nbformat": 4,
 "nbformat_minor": 2
}
