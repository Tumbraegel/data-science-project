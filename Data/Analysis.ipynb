{
 "cells": [
  {
   "cell_type": "code",
   "execution_count": 1,
   "metadata": {},
   "outputs": [],
   "source": [
    "import pandas as pd"
   ]
  },
  {
   "cell_type": "code",
   "execution_count": 2,
   "metadata": {},
   "outputs": [
    {
     "ename": "FileNotFoundError",
     "evalue": "[Errno 2] No such file or directory: 'wikilympics2016.csv'",
     "output_type": "error",
     "traceback": [
      "\u001b[0;31m---------------------------------------------------------------------------\u001b[0m",
      "\u001b[0;31mFileNotFoundError\u001b[0m                         Traceback (most recent call last)",
      "\u001b[0;32m<ipython-input-2-9c46cd78d5de>\u001b[0m in \u001b[0;36m<module>\u001b[0;34m()\u001b[0m\n\u001b[1;32m      2\u001b[0m \u001b[0mlist\u001b[0m \u001b[0;34m=\u001b[0m \u001b[0;34m[\u001b[0m\u001b[0;34m]\u001b[0m\u001b[0;34m\u001b[0m\u001b[0m\n\u001b[1;32m      3\u001b[0m \u001b[0;34m\u001b[0m\u001b[0m\n\u001b[0;32m----> 4\u001b[0;31m \u001b[0;32mwith\u001b[0m \u001b[0mopen\u001b[0m\u001b[0;34m(\u001b[0m\u001b[0;34m'wikilympics2016.csv'\u001b[0m\u001b[0;34m,\u001b[0m \u001b[0mnewline\u001b[0m\u001b[0;34m=\u001b[0m\u001b[0;34m''\u001b[0m\u001b[0;34m)\u001b[0m \u001b[0;32mas\u001b[0m \u001b[0mcsvfile\u001b[0m\u001b[0;34m:\u001b[0m\u001b[0;34m\u001b[0m\u001b[0m\n\u001b[0m\u001b[1;32m      5\u001b[0m     \u001b[0mreader\u001b[0m \u001b[0;34m=\u001b[0m \u001b[0mcsv\u001b[0m\u001b[0;34m.\u001b[0m\u001b[0mreader\u001b[0m\u001b[0;34m(\u001b[0m\u001b[0mcsvfile\u001b[0m\u001b[0;34m,\u001b[0m \u001b[0mdelimiter\u001b[0m\u001b[0;34m=\u001b[0m\u001b[0;34m','\u001b[0m\u001b[0;34m)\u001b[0m\u001b[0;34m\u001b[0m\u001b[0m\n\u001b[1;32m      6\u001b[0m     \u001b[0;32mfor\u001b[0m \u001b[0mrow\u001b[0m \u001b[0;32min\u001b[0m \u001b[0mreader\u001b[0m\u001b[0;34m:\u001b[0m\u001b[0;34m\u001b[0m\u001b[0m\n",
      "\u001b[0;31mFileNotFoundError\u001b[0m: [Errno 2] No such file or directory: 'wikilympics2016.csv'"
     ]
    }
   ],
   "source": [
    "# read data from excel file and convert it to pandas data frame\n",
    "results = pd.read_excel('Results_Rio_2016_Edited')\n",
    "results = pd.DataFrame(results)"
   ]
  },
  {
   "cell_type": "code",
   "execution_count": null,
   "metadata": {},
   "outputs": [],
   "source": [
    "# create random integers between 8000 and 12000 and append column 'length' to data\n",
    "# length = np.random.randint(8000, 12000, size=len(data)).reshape(len(data), 1)\n",
    "# data = np.hstack((data, length))"
   ]
  },
  {
   "cell_type": "code",
   "execution_count": null,
   "metadata": {},
   "outputs": [],
   "source": [
    "# split data into 8 different arrays\n",
    "athletes = data[np.where(data[:, 1] == 'Athletes (track and field)')]\n",
    "equestrians = data[np.where(data[:, 1] == 'Equestrians')]\n",
    "archers = data[np.where(data[:, 1] == 'Archers')]\n",
    "fencers = data[np.where(data[:, 1] == 'Fencers')]\n",
    "divers = data[np.where(data[:, 1] == 'Divers')]\n",
    "pentathletes = data[np.where(data[:, 1] == 'Modern pentathletes')]\n",
    "swimmers = data[np.where(data[:, 1] == 'Swimmers')]\n",
    "cyclists = data[np.where(data[:, 1] == 'Cyclists')]\n",
    "#canoeists = data[np.where(data[:, 1] == 'Canoeists')]\n",
    "#gymnasts = data[np.where(data[:, 1] == 'Gymnasts')]\n",
    "#rowers = data[np.where(data[:, 1] == 'Rowers')]"
   ]
  },
  {
   "cell_type": "code",
   "execution_count": null,
   "metadata": {},
   "outputs": [],
   "source": [
    "def plot_means(y):\n",
    "    x = range(len(y))\n",
    "    labels = [\"Men\", \"Women\"]\n",
    "    width = 1/2\n",
    "    plt.bar(x, y, width, color=\"blue\")\n",
    "    plt.xticks(x, labels)"
   ]
  },
  {
   "cell_type": "code",
   "execution_count": null,
   "metadata": {},
   "outputs": [],
   "source": [
    "def plot_median(y):\n",
    "    x = range(len(y))\n",
    "    labels = [\"Men\", \"Women\"]\n",
    "    width = 1/2\n",
    "    plt.bar(x, y, width, color=\"red\")\n",
    "    plt.xticks(x, labels)"
   ]
  },
  {
   "cell_type": "code",
   "execution_count": null,
   "metadata": {},
   "outputs": [],
   "source": [
    "# t-test for male and female participants in athletics_100_m finals\n",
    "#stats.ttest_ind(males, females)\n",
    "\n",
    "def ttest(sportart,kategorie):\n",
    "    '''conducts a t test for given competition\n",
    "    \n",
    "    Args:\n",
    "        competition: olympic sports competition to evaluate\n",
    "    \n",
    "    Returns:\n",
    "        statistic, pvalue : The calculated t-statistic and the two-tailed p-value.\n",
    "    '''\n",
    "    kat={'words':4,'edits':5,'links':6}\n",
    "    k=kat[kategorie]\n",
    "    # get length of wikipedia articles for groups of male and female athletes\n",
    "    men = sportart[np.where(sportart[:, 3] == 'm')][:, k].astype(np.int)\n",
    "    women = sportart[np.where(sportart[:, 3] == 'f')][:, k].astype(np.int)\n",
    "    \n",
    "    print(kategorie)\n",
    "    print(str(len(men))+\" men, mean: \"+str(np.mean(men))+\", median: \"+str(np.median(men)))\n",
    "    print(str(len(women))+\" women, mean: \"+str(np.mean(women))+\", median: \"+str(np.median(women)))\n",
    "\n",
    "    y = [np.mean(men), np.mean(women)]    \n",
    "    \n",
    "    plot_means([np.mean(men), np.mean(women)])\n",
    "    plot_median([np.median(men),np.median(women)])\n",
    "    \n",
    "    # conduct t test\n",
    "    return stats.ttest_ind(men, women)"
   ]
  },
  {
   "cell_type": "code",
   "execution_count": null,
   "metadata": {},
   "outputs": [],
   "source": [
    "ttest(canoeists,'edits') # words,edits,links"
   ]
  },
  {
   "cell_type": "code",
   "execution_count": null,
   "metadata": {},
   "outputs": [],
   "source": []
  },
  {
   "cell_type": "code",
   "execution_count": null,
   "metadata": {},
   "outputs": [],
   "source": []
  }
 ],
 "metadata": {
  "kernelspec": {
   "display_name": "Python 3",
   "language": "python",
   "name": "python3"
  },
  "language_info": {
   "codemirror_mode": {
    "name": "ipython",
    "version": 3
   },
   "file_extension": ".py",
   "mimetype": "text/x-python",
   "name": "python",
   "nbconvert_exporter": "python",
   "pygments_lexer": "ipython3",
   "version": "3.6.7"
  }
 },
 "nbformat": 4,
 "nbformat_minor": 2
}
