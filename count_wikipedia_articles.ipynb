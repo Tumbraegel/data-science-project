{
 "cells": [
  {
   "cell_type": "code",
   "execution_count": 2,
   "metadata": {},
   "outputs": [],
   "source": [
    "import wikipedia as wp\n",
    "import pandas as pd"
   ]
  },
  {
   "cell_type": "code",
   "execution_count": 3,
   "metadata": {},
   "outputs": [],
   "source": [
    "def reduce_string(string):\n",
    "    return string.replace('\\n', ' ').replace('\\r', '').replace(\"==\", \"\").replace(\"=\", \"\")"
   ]
  },
  {
   "cell_type": "code",
   "execution_count": 4,
   "metadata": {},
   "outputs": [],
   "source": [
    "def count(string):\n",
    "    counter = 0\n",
    "    saw_space = False\n",
    "    for char in string:\n",
    "        if char == \" \":\n",
    "            if not saw_space:\n",
    "                counter += 1\n",
    "            saw_space = True\n",
    "        else:\n",
    "            saw_space = False\n",
    "    return counter"
   ]
  },
  {
   "cell_type": "code",
   "execution_count": 7,
   "metadata": {},
   "outputs": [],
   "source": [
    "def count_words(titles):\n",
    "    wordcount = []\n",
    "    for title in titles:\n",
    "        content = wp.page(title).content\n",
    "        wordcount.append(count(reduce_string(content)))\n",
    "    return wordcount"
   ]
  },
  {
   "cell_type": "code",
   "execution_count": null,
   "metadata": {},
   "outputs": [],
   "source": []
  }
 ],
 "metadata": {
  "kernelspec": {
   "display_name": "Python 3",
   "language": "python",
   "name": "python3"
  },
  "language_info": {
   "codemirror_mode": {
    "name": "ipython",
    "version": 3
   },
   "file_extension": ".py",
   "mimetype": "text/x-python",
   "name": "python",
   "nbconvert_exporter": "python",
   "pygments_lexer": "ipython3",
   "version": "3.6.6"
  }
 },
 "nbformat": 4,
 "nbformat_minor": 2
}
